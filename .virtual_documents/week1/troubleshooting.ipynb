





# Some quick checks that your Conda environment or VirtualEnv is as expected
# The Environment Name should be: llms

import os

conda_prefix = os.environ.get('CONDA_PREFIX')
if conda_prefix:
    print("Anaconda environment is active:")
    print(f"Environment Path: {conda_prefix}")
    print(f"Environment Name: {os.path.basename(conda_prefix)}")

virtual_env = os.environ.get('VIRTUAL_ENV')
if virtual_env:
    print("Virtualenv is active:")
    print(f"Environment Path: {virtual_env}")
    print(f"Environment Name: {os.path.basename(virtual_env)}")

if not conda_prefix and not virtual_env:
    print("Neither Anaconda nor Virtualenv seems to be active. Did you start jupyter lab in an Activated environment? See Setup Part 5.")


# And now, this should run with no output - no import errors.
# Import errors might indicate that you started jupyter lab without your environment activated? See SETUP part 5.
# Or you might need to restart your Kernel and Jupyter Lab.
# Or it's possible that something is wrong with Anaconda, in which case we may have to use virtualenv instead.
# If you're unsure, please run the diagnostics (last cell in this notebook) and then email me at ed@edwarddonner.com

from openai import OpenAI





from pathlib import Path

parent_dir = Path("..")
env_path = parent_dir / ".env"

if env_path.exists() and env_path.is_file():
    print(".env file found.")

    # Read the contents of the .env file
    with env_path.open("r") as env_file:
        contents = env_file.readlines()

    key_exists = any(line.startswith("OPENAI_API_KEY=") for line in contents)
    good_key = any(line.startswith("OPENAI_API_KEY=sk-proj-") for line in contents)
    
    if key_exists and good_key:
        print("SUCCESS! OPENAI_API_KEY found and it has the right prefix")
    elif key_exists:
        print("Found an OPENAI_API_KEY although it didn't have the expected prefix sk-proj- \nPlease double check your key in the file..")
    else:
        print("Didn't find an OPENAI_API_KEY in the .env file")
else:
    print(".env file not found in the llm_engineering directory. It needs to have exactly the name: .env")
    
    possible_misnamed_files = list(parent_dir.glob("*.env*"))
    
    if possible_misnamed_files:
        print("\nWarning: No '.env' file found, but the following files were found in the llm_engineering directory that contain '.env' in the name. Perhaps this needs to be renamed?")
        for file in possible_misnamed_files:
            print(file.name)





# Only run this code in this cell if you want to have a .env file created for you!

make_me_a_file_with_this_key = "put your key here inside these quotes.. it should start sk-proj-"

from pathlib import Path

parent_dir = Path("..")
env_path = parent_dir / ".env"

if env_path.exists():
    print("There is already a .env file - if you want me to create a new one, please delete the existing one first")
else:
    try:
        with env_path.open(mode='w', encoding='utf-8') as env_file:
            env_file.write(f"OPENAI_API_KEY={make_me_a_file_with_this_key}")
        print(f"Successfully created the .env file at {env_path}")
        print("Now rerun the previous cell to confirm that the file is created and the key is correct.")
    except Exception as e:
        print(f"An error occurred while creating the .env file: {e}")





# This should print your API key to the output

import os
from dotenv import load_dotenv
load_dotenv()

api_key = os.getenv("OPENAI_API_KEY")

if not api_key:
    print("No API key was found - please try Kernel menu >> Restart Kernel And Clear Outputs of All Cells")
elif api_key[:8]!="sk-proj-":
    print("An API key was found, but it doesn't start sk-proj-; please check you're using the right key")
elif api_key.strip() != api_key:
    print("An API key was found, but it looks like it might have space or tab characters at the start or end - please remove them")
else:
    print("API key found and looks good so far!")

print("My key is", os.getenv("OPENAI_API_KEY"))








from openai import OpenAI
from dotenv import load_dotenv
load_dotenv()

# EITHER:
my_api_key = os.getenv("OPENAI_API_KEY")

# OR if you haven't been able to get .env working, uncomment this next line and paste your key inside the quote marks
# my_api_key = "REPLACE THIS TEXT WITH YOUR OPENAI API KEY WITHIN THE QUOTE MARKS - it should start sk-proj-"

print(f"Using API key {my_api_key}")

openai = OpenAI(api_key=my_api_key)
completion = openai.chat.completions.create(
    model='gpt-4o-mini',
    messages=[{"role":"user", "content": "What's 2+2?"}],
)
print(completion.choices[0].message.content)








# Run my diagnostics report to collect key information for debugging
# Please email me the results. Either copy & paste the output, or attach the file report.txt

get_ipython().getoutput("pip install -q requests speedtest-cli psutil setuptools")
from diagnostics import Diagnostics
Diagnostics().run()






