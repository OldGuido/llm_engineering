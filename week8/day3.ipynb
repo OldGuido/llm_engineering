{
 "cells": [
  {
   "cell_type": "markdown",
   "id": "0df0d850-49eb-4a0b-a27a-146969db710d",
   "metadata": {},
   "source": [
    "# The Price is Right\n",
    "\n",
    "Today we'll build another piece of the puzzle: a ScanningAgent that looks for promising deals by subscribing to RSS feeds."
   ]
  },
  {
   "cell_type": "code",
   "execution_count": 2,
   "id": "d3763a79-8a5a-4300-8de4-93e85475af10",
   "metadata": {},
   "outputs": [],
   "source": [
    "# imports\n",
    "\n",
    "import os\n",
    "import json\n",
    "from dotenv import load_dotenv\n",
    "from openai import OpenAI\n",
    "from agents.deals import ScrapedDeal, DealSelection"
   ]
  },
  {
   "cell_type": "code",
   "execution_count": 3,
   "id": "c6469e32-16c3-4443-9475-ade710ef6933",
   "metadata": {},
   "outputs": [],
   "source": [
    "# Initialize and constants\n",
    "\n",
    "load_dotenv()\n",
    "os.environ['OPENAI_API_KEY'] = os.getenv('OPENAI_API_KEY', 'your-key-if-not-using-env')\n",
    "MODEL = 'gpt-4o-mini'\n",
    "openai = OpenAI()"
   ]
  },
  {
   "cell_type": "code",
   "execution_count": 4,
   "id": "afece9db-8cd4-46be-ac57-0b472e84da7d",
   "metadata": {},
   "outputs": [
    {
     "name": "stderr",
     "output_type": "stream",
     "text": [
      "100%|██████████| 5/5 [02:02<00:00, 24.49s/it]\n"
     ]
    }
   ],
   "source": [
    "deals = ScrapedDeal.fetch(show_progress=True)"
   ]
  },
  {
   "cell_type": "code",
   "execution_count": 5,
   "id": "8cd15c4d-eb44-4601-bf0c-f945c1d8e3ec",
   "metadata": {},
   "outputs": [
    {
     "data": {
      "text/plain": [
       "50"
      ]
     },
     "execution_count": 5,
     "metadata": {},
     "output_type": "execute_result"
    }
   ],
   "source": [
    "len(deals)"
   ]
  },
  {
   "cell_type": "code",
   "execution_count": 8,
   "id": "4259f30a-6455-49ed-8863-2f9ddd4776cb",
   "metadata": {},
   "outputs": [
    {
     "data": {
      "text/plain": [
       "\"Title: Garwinner 20'' 2-Stroke Cordless Gas Chainsaw for $104 + free shipping\\nDetails: Cut wood at the farm, garden, or ranch. It's $86 off and the best deal we could find. Buy Now at Walmart\\nFeatures: non-slip handle 2-stroke motor safety switch Model: 20IN-6220G\\nURL: https://www.dealnews.com/products/Garwinner-20-2-Stroke-Cordless-Gas-Chainsaw/487987.html?iref=rss-c196\""
      ]
     },
     "execution_count": 8,
     "metadata": {},
     "output_type": "execute_result"
    }
   ],
   "source": [
    "deals[44].describe()"
   ]
  },
  {
   "cell_type": "code",
   "execution_count": 9,
   "id": "8100e5ac-38f5-40c1-a712-08ae12c85038",
   "metadata": {},
   "outputs": [],
   "source": [
    "system_prompt = \"\"\"You identify and summarize the 5 most detailed deals from a list, by selecting deals that have the most detailed, high quality description and the most clear price.\n",
    "Respond strictly in JSON with no explanation, using this format. You should provide the price as a number derived from the description. If the price of a deal isn't clear, do not include that deal in your response.\n",
    "Most important is that you respond with the 5 deals that have the most detailed product description with price. It's not important to mention the terms of the deal; most important is a thorough description of the product.\n",
    "Be careful with products that are described as \"$XXX off\" or \"reduced by $XXX\" - this isn't the actual price of the product. Only respond with products when you are highly confident about the price. \n",
    "\n",
    "{\"deals\": [\n",
    "    {\n",
    "        \"product_description\": \"Your clearly expressed summary of the product in 4-5 sentences. Details of the item are much more important than why it's a good deal. Avoid mentioning discounts and coupons; focus on the item itself. There should be a paragpraph of text for each item you choose.\",\n",
    "        \"price\": 99.99,\n",
    "        \"url\": \"the url as provided\"\n",
    "    },\n",
    "    ...\n",
    "]}\"\"\""
   ]
  },
  {
   "cell_type": "code",
   "execution_count": 10,
   "id": "f4bca170-af71-40c9-9597-1d72980c74d8",
   "metadata": {},
   "outputs": [],
   "source": [
    "user_prompt = \"\"\"Respond with the most promising 5 deals from this list, selecting those which have the most detailed, high quality product description and a clear price.\n",
    "Respond strictly in JSON, and only JSON. You should rephrase the description to be a summary of the product itself, not the terms of the deal.\n",
    "Remember to respond with a paragraph of text in the product_description field for each of the 5 items that you select.\n",
    "Be careful with products that are described as \"$XXX off\" or \"reduced by $XXX\" - this isn't the actual price of the product. Only respond with products when you are highly confident about the price. \n",
    "\n",
    "Deals:\n",
    "\n",
    "\"\"\"\n",
    "user_prompt += '\\n\\n'.join([deal.describe() for deal in deals])"
   ]
  },
  {
   "cell_type": "code",
   "execution_count": 11,
   "id": "020947a6-561b-417b-98a0-a085e31d2ce3",
   "metadata": {},
   "outputs": [
    {
     "name": "stdout",
     "output_type": "stream",
     "text": [
      "Respond with the most promising 5 deals from this list, selecting those which have the most detailed, high quality product description and a clear price.\n",
      "Respond strictly in JSON, and only JSON. You should rephrase the description to be a summary of the product itself, not the terms of the deal.\n",
      "Remember to respond with a paragraph of text in the product_description field for each of the 5 items that you select.\n",
      "Be careful with products that are described as \"$XXX off\" or \"reduced by $XXX\" - this isn't the actual price of the product. Only respond with products when you are highly confident about the price. \n",
      "\n",
      "Deals:\n",
      "\n",
      "Title: Soundcore Spring Deals: Up to 60% off + free shipping\n",
      "Details: Soundcore members get early access to their Spring sale, which includes an extra 5% off select items, free gifts with certain orders, freebies with Soundcore credit redemptions, and more. (Not a member? It's free to join.) Plus, the 5% off discounts stack with the coupons listed alongside many of those headphones and speakers. Shop Now at Soundcore\n",
      "Features: \n",
      "URL: https://www.dealnews.com/Soundcore-Spring-Deals-Up-to-60-off-free-shipping/21725244.html?iref=rss-c142\n",
      "\n",
      "Title: Ulefone Armor 28 Ultra 5G AI Thermal Imaging Rugged Android Phone for $870 + free shipping\n",
      "Details: It's a savings of $330. Buy Now at AliExpress\n",
      "Features: MediaTek Dimensity 9300+ 6.67\" AMOLED Display 32GB RAM, and UFS4.0 1TB Storage IP68 Waterproof\n",
      "URL: https://www.dealnews.com/Ulefone-Armor-28-Ultra-5-G-AI-Thermal-Imaging-Rugged-Android-Phone-for-870-free-shipping/21725240.html?iref=rss-c142\n",
      "\n",
      "Title: Walmart TV Deals: Up to 48% off + free shipping\n",
      "Details: Brands on offer include Hisense, LG, Roku, and Samsung. 32\" TVs start at $88, 43\" TVs at $138,and 50\" TVs at $214. Pictured is the LG 65UQ7070ZUE 65\" 4K UHD Smart TV for $398 ($78 off and the best price we've seen). Shop Now at Walmart\n",
      "Features: \n",
      "URL: https://www.dealnews.com/Walmart-TV-Deals-Up-to-48-off-free-shipping/21725186.html?iref=rss-c142\n",
      "\n",
      "Title: Adorama\n"
     ]
    }
   ],
   "source": [
    "print(user_prompt[:2000])"
   ]
  },
  {
   "cell_type": "code",
   "execution_count": 12,
   "id": "7de46f74-868c-4127-8a68-cf2da7d600bb",
   "metadata": {},
   "outputs": [],
   "source": [
    "def get_recommendations():\n",
    "    completion = openai.beta.chat.completions.parse(\n",
    "        model=\"gpt-4o-mini\",\n",
    "        messages=[\n",
    "            {\"role\": \"system\", \"content\": system_prompt},\n",
    "            {\"role\": \"user\", \"content\": user_prompt}\n",
    "      ],\n",
    "        response_format=DealSelection\n",
    "    )\n",
    "    result = completion.choices[0].message.parsed\n",
    "    return result"
   ]
  },
  {
   "cell_type": "code",
   "execution_count": 13,
   "id": "4c06270d-8c17-4d5a-9cfe-b6cefe788d5e",
   "metadata": {},
   "outputs": [],
   "source": [
    "result = get_recommendations()"
   ]
  },
  {
   "cell_type": "code",
   "execution_count": 14,
   "id": "84e62845-3338-441a-8161-c70097af4773",
   "metadata": {},
   "outputs": [
    {
     "data": {
      "text/plain": [
       "5"
      ]
     },
     "execution_count": 14,
     "metadata": {},
     "output_type": "execute_result"
    }
   ],
   "source": [
    "len(result.deals)"
   ]
  },
  {
   "cell_type": "code",
   "execution_count": 17,
   "id": "e5554a0a-ae40-4684-ad3e-faa3d22e030c",
   "metadata": {},
   "outputs": [
    {
     "data": {
      "text/plain": [
       "Deal(product_description='The Samsung T5 EVO is a robust 4TB portable SSD that offers impressive storage and speed with USB 3.2 Gen 1 technology. It features shock resistance and fall protection up to 6 feet, ensuring your data is safe on the go. Moreover, it comes with 256-bit AES hardware encryption and delivers read and write speeds of up to 460MBps, making it an excellent choice for data-heavy applications.', price=220.0, url='https://www.dealnews.com/products/Samsung/Samsung-T5-EVO-4-TB-Portable-SSD/480881.html?iref=rss-c39')"
      ]
     },
     "execution_count": 17,
     "metadata": {},
     "output_type": "execute_result"
    }
   ],
   "source": [
    "result.deals[2]"
   ]
  },
  {
   "cell_type": "code",
   "execution_count": 18,
   "id": "8bdc57fb-7497-47af-a643-6ba5a21cc17e",
   "metadata": {},
   "outputs": [],
   "source": [
    "from agents.scanner_agent import ScannerAgent"
   ]
  },
  {
   "cell_type": "code",
   "execution_count": 19,
   "id": "132278bc-217a-43a6-b6c4-724140c6a225",
   "metadata": {},
   "outputs": [],
   "source": [
    "agent = ScannerAgent()\n",
    "result = agent.scan()"
   ]
  },
  {
   "cell_type": "code",
   "execution_count": 21,
   "id": "2e1d013a-c930-4dad-901b-41433379e14b",
   "metadata": {},
   "outputs": [
    {
     "data": {
      "text/plain": [
       "DealSelection(deals=[Deal(product_description='The Ulefone Armor 28 Ultra 5G is a rugged Android smartphone designed for durability and performance. It features a MediaTek Dimensity 9300+ processor, a vibrant 6.67\" AMOLED display, and a hefty 32GB of RAM for seamless multitasking. With its massive 1TB UFS4.0 storage, you\\'ll have plenty of space for apps, photos, and videos. Plus, its IP68 rating means it\\'s waterproof and resistant to dust, making it perfect for outdoor enthusiasts or those in demanding work environments.', price=870.0, url='https://www.dealnews.com/Ulefone-Armor-28-Ultra-5-G-AI-Thermal-Imaging-Rugged-Android-Phone-for-870-free-shipping/21725240.html?iref=rss-c142'), Deal(product_description=\"Stay connected with the Certified Refurb Status Between 3 ANC Wireless Earbuds, perfect for music lovers who value quality and comfort. These earbuds feature advanced active noise cancellation, which ensures an immersive listening experience without distractions. With a long-lasting battery that supports hours of playback, they're ideal for both daily commutes and intense workouts. Additionally, the product comes with a two-year Allstate warranty for peace of mind.\", price=83.0, url='https://www.dealnews.com/products/Status/Status-Between-3-ANC-Wireless-Earbuds/487978.html?iref=rss-c142'), Deal(product_description='The Samsung T5 EVO portable SSD offers lightning-fast data transfers with its USB 3.2 Gen 1 compatibility, providing up to 460MBps in both read and write speeds. Its sleek and compact design packs 4TB, making it an excellent choice for those needing extensive storage on the go. Equipped with hardware encryption and shock resistance, it ensures your data is both secure and protected against drops. Plus, this package includes a complimentary 512GB SDXC card with a reader.', price=220.0, url='https://www.dealnews.com/products/Samsung/Samsung-T5-EVO-4-TB-Portable-SSD/480881.html?iref=rss-c39'), Deal(product_description=\"Enhance your home cleaning capabilities with the Certified Refurb iRobot Roomba j7+ self-emptying robot vacuum. This advanced robot vacuum features smart mapping technology that allows for customized cleaning routes around your home. Its self-cleaning cartridge means you won't have to worry about emptying it frequently, while the 2-year Allstate warranty offers assurance of quality. This model effectively captures dirt, pet hair, and allergens from your floors with minimal effort.\", price=200.0, url='https://www.dealnews.com/products/iRobot/iRobot-Roomba-j7-Self-Emptying-Robot-Vacuum/455442.html?iref=rss-f1912'), Deal(product_description='The Birdfy Smart Bird Feeder is integrated with an AI camera that can identify over 6,000 bird species, offering a unique way to observe and learn about local wildlife. With a built-in solar panel, it ensures continuous operation without the need for frequent battery changes. This eco-friendly wooden feeder is designed for durability and includes 1080P HD camera capabilities with night vision, making it a perfect addition to any backyard or garden.', price=100.0, url='https://www.dealnews.com/Birdfy-Smart-Bird-Feeder-with-Camera-and-AI-Species-Identification-for-100-free-shipping/21723427.html?iref=rss-f1912')])"
      ]
     },
     "execution_count": 21,
     "metadata": {},
     "output_type": "execute_result"
    }
   ],
   "source": [
    "result"
   ]
  },
  {
   "cell_type": "code",
   "execution_count": null,
   "id": "5ee2e837-1f1d-42d4-8bc4-51cccc343006",
   "metadata": {},
   "outputs": [],
   "source": []
  }
 ],
 "metadata": {
  "kernelspec": {
   "display_name": "venv",
   "language": "python",
   "name": "python3"
  },
  "language_info": {
   "codemirror_mode": {
    "name": "ipython",
    "version": 3
   },
   "file_extension": ".py",
   "mimetype": "text/x-python",
   "name": "python",
   "nbconvert_exporter": "python",
   "pygments_lexer": "ipython3",
   "version": "3.12.1"
  }
 },
 "nbformat": 4,
 "nbformat_minor": 5
}
