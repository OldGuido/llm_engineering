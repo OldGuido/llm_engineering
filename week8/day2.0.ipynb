{
 "cells": [
  {
   "cell_type": "markdown",
   "id": "046fd8f8-ad14-4c7f-b759-fec52f5b5306",
   "metadata": {},
   "source": [
    "# The Price is Right\n",
    "\n",
    "Today we build a more complex solution for estimating prices of goods.\n",
    "\n",
    "1. This notebook: create a RAG database with our 400,000 training data\n",
    "2. Day 2.1 notebook: visualize in 2D\n",
    "3. Day 2.2 notebook: visualize in 3D\n",
    "4. Day 2.3 notebook: build and test a RAG pipeline with GPT-4o-mini\n",
    "5. Day 2.4 notebook: (a) bring back our Random Forest pricer (b) Create a Ensemble pricer that allows contributions from all the pricers\n",
    "\n",
    "Phew! That's a lot to get through in one day!\n",
    "\n",
    "## PLEASE NOTE:\n",
    "\n",
    "We already have a very powerful product estimator with our proprietary, fine-tuned LLM. Most people would be very satisfied with that! The main reason we're adding these extra steps is to deepen your expertise with RAG and with Agentic workflows.\n"
   ]
  },
  {
   "cell_type": "code",
   "execution_count": null,
   "id": "8f456db1",
   "metadata": {},
   "outputs": [],
   "source": []
  },
  {
   "cell_type": "code",
   "execution_count": 2,
   "id": "993a2a24-1a58-42be-8034-6d116fb8d786",
   "metadata": {},
   "outputs": [],
   "source": [
    "# imports\n",
    "\n",
    "import os\n",
    "import re\n",
    "import math\n",
    "import json\n",
    "from tqdm import tqdm\n",
    "import random\n",
    "from dotenv import load_dotenv\n",
    "from huggingface_hub import login\n",
    "import numpy as np\n",
    "import pickle\n",
    "from sentence_transformers import SentenceTransformer\n",
    "from datasets import load_dataset\n",
    "import chromadb\n",
    "from items import Item\n",
    "from sklearn.manifold import TSNE\n",
    "import plotly.graph_objects as go"
   ]
  },
  {
   "cell_type": "code",
   "execution_count": 3,
   "id": "2359ccc0-dbf2-4b1e-9473-e472b32f548b",
   "metadata": {},
   "outputs": [],
   "source": [
    "# environment\n",
    "\n",
    "load_dotenv()\n",
    "os.environ['OPENAI_API_KEY'] = os.getenv('OPENAI_API_KEY', 'your-key-if-not-using-env')\n",
    "os.environ['HF_TOKEN'] = os.getenv('HF_TOKEN', 'your-key-if-not-using-env')\n",
    "DB = \"products_vectorstore\""
   ]
  },
  {
   "cell_type": "code",
   "execution_count": 4,
   "id": "645167e6-cf0d-42d2-949f-1089a25a2841",
   "metadata": {},
   "outputs": [
    {
     "name": "stderr",
     "output_type": "stream",
     "text": [
      "Note: Environment variable`HF_TOKEN` is set and is the current active token independently from the token you've just configured.\n"
     ]
    }
   ],
   "source": [
    "# Log in to HuggingFace\n",
    "\n",
    "hf_token = os.environ['HF_TOKEN']\n",
    "login(hf_token, add_to_git_credential=True)"
   ]
  },
  {
   "cell_type": "markdown",
   "id": "3d4995a4-f67f-4871-87df-8c6439b06366",
   "metadata": {},
   "source": [
    "## Back to the pkl files\n",
    "\n",
    "Much as we enjoyed data curating in week 6, we probably don't want to go through that whole process again!\n",
    "\n",
    "Let's reuse the pkl files we created then. Either copy the files `train.pkl` and `test.pkl` from the Week 6 folder into this Week 8 folder, or you can also download them from here:\n",
    "\n",
    "https://drive.google.com/drive/folders/1f_IZGybvs9o0J5sb3xmtTEQB3BXllzrW?usp=drive_link"
   ]
  },
  {
   "cell_type": "code",
   "execution_count": 5,
   "id": "688bd995-ec3e-43cd-8179-7fe14b275877",
   "metadata": {},
   "outputs": [],
   "source": [
    "# With train.pkl in this folder, you can run this:\n",
    "\n",
    "with open('train.pkl', 'rb') as file:\n",
    "    train = pickle.load(file)"
   ]
  },
  {
   "cell_type": "code",
   "execution_count": 6,
   "id": "2817eaf5-4302-4a18-9148-d1062e3b3dbb",
   "metadata": {},
   "outputs": [
    {
     "data": {
      "text/plain": [
       "'How much does this cost to the nearest dollar?\\n\\nDelphi FG0166 Fuel Pump Module\\nDelphi brings 80 years of OE Heritage into each Delphi pump, ensuring quality and fitment for each Delphi part. Part is validated, tested and matched to the right vehicle application Delphi brings 80 years of OE Heritage into each Delphi assembly, ensuring quality and fitment for each Delphi part Always be sure to check and clean fuel tank to avoid unnecessary returns Rigorous OE-testing ensures the pump can withstand extreme temperatures Brand Delphi, Fit Type Vehicle Specific Fit, Dimensions LxWxH 19.7 x 7.7 x 5.1 inches, Weight 2.2 Pounds, Auto Part Position Unknown, Operation Mode Mechanical, Manufacturer Delphi, Model FUEL PUMP, Dimensions 19.7\\n\\nPrice is $227.00'"
      ]
     },
     "execution_count": 6,
     "metadata": {},
     "output_type": "execute_result"
    }
   ],
   "source": [
    "train[0].prompt"
   ]
  },
  {
   "cell_type": "markdown",
   "id": "9ae1ba16-7e80-4096-ac88-64ef8edcc80c",
   "metadata": {},
   "source": [
    "# Now create a Chroma Datastore\n",
    "\n",
    "In Week 5, we created a Chroma datastore with 123 documents representing chunks of objects from our fictional company Insurellm.\n",
    "\n",
    "Now we will create a Chroma datastore with 400,000 products from our training dataset! It's getting real!\n",
    "\n",
    "Note that we won't be using LangChain, but the API is very straightforward and consistent with before."
   ]
  },
  {
   "cell_type": "code",
   "execution_count": 7,
   "id": "f4aab95e-d719-4476-b6e7-e248120df25a",
   "metadata": {},
   "outputs": [],
   "source": [
    "client = chromadb.PersistentClient(path=DB)"
   ]
  },
  {
   "cell_type": "code",
   "execution_count": 8,
   "id": "5f95dafd-ab80-464e-ba8a-dec7a2424780",
   "metadata": {},
   "outputs": [],
   "source": [
    "# Check if the collection exists and delete it if it does\n",
    "collection_name = \"products\"\n",
    "existing_collection_names = [collection.name for collection in client.list_collections()]\n",
    "if collection_name in existing_collection_names:\n",
    "    client.delete_collection(collection_name)\n",
    "    print(f\"Deleted existing collection: {collection_name}\")\n",
    "\n",
    "collection = client.create_collection(collection_name)"
   ]
  },
  {
   "cell_type": "markdown",
   "id": "d392ed28-203d-4e73-be87-ac1390bdf722",
   "metadata": {},
   "source": [
    "# Introducing the SentenceTransfomer\n",
    "\n",
    "The all-MiniLM is a very useful model from HuggingFace that maps sentences & paragraphs to a 384 dimensional dense vector space and is ideal for tasks like semantic search.\n",
    "\n",
    "https://huggingface.co/sentence-transformers/all-MiniLM-L6-v2\n",
    "\n",
    "It can run pretty quickly locally.\n",
    "\n",
    "Last time we used OpenAI embeddings to produce vector embeddings. Benefits compared to OpenAI embeddings:\n",
    "1. It's free and fast!\n",
    "3. We can run it locally, so the data never leaves our box - might be useful if you're building a personal RAG\n"
   ]
  },
  {
   "cell_type": "code",
   "execution_count": 9,
   "id": "a87db200-d19d-44bf-acbd-15c45c70f5c9",
   "metadata": {},
   "outputs": [
    {
     "data": {
      "application/vnd.jupyter.widget-view+json": {
       "model_id": "6ca4e90c942f4086b18e5b5cd6be119e",
       "version_major": 2,
       "version_minor": 0
      },
      "text/plain": [
       "modules.json:   0%|          | 0.00/349 [00:00<?, ?B/s]"
      ]
     },
     "metadata": {},
     "output_type": "display_data"
    },
    {
     "data": {
      "application/vnd.jupyter.widget-view+json": {
       "model_id": "f739ddcf59474afd95494f9f9adc672a",
       "version_major": 2,
       "version_minor": 0
      },
      "text/plain": [
       "config_sentence_transformers.json:   0%|          | 0.00/116 [00:00<?, ?B/s]"
      ]
     },
     "metadata": {},
     "output_type": "display_data"
    },
    {
     "data": {
      "application/vnd.jupyter.widget-view+json": {
       "model_id": "48c1ccaaa2b64fc597be1322e01904d5",
       "version_major": 2,
       "version_minor": 0
      },
      "text/plain": [
       "README.md:   0%|          | 0.00/10.5k [00:00<?, ?B/s]"
      ]
     },
     "metadata": {},
     "output_type": "display_data"
    },
    {
     "data": {
      "application/vnd.jupyter.widget-view+json": {
       "model_id": "10eb478ecbe94561b9686e58ab685507",
       "version_major": 2,
       "version_minor": 0
      },
      "text/plain": [
       "sentence_bert_config.json:   0%|          | 0.00/53.0 [00:00<?, ?B/s]"
      ]
     },
     "metadata": {},
     "output_type": "display_data"
    },
    {
     "data": {
      "application/vnd.jupyter.widget-view+json": {
       "model_id": "a322560e81f64ac7a452b11baa99558f",
       "version_major": 2,
       "version_minor": 0
      },
      "text/plain": [
       "config.json:   0%|          | 0.00/612 [00:00<?, ?B/s]"
      ]
     },
     "metadata": {},
     "output_type": "display_data"
    },
    {
     "data": {
      "application/vnd.jupyter.widget-view+json": {
       "model_id": "ae1f75ed42b6423abd9dca53b09e8383",
       "version_major": 2,
       "version_minor": 0
      },
      "text/plain": [
       "model.safetensors:   0%|          | 0.00/90.9M [00:00<?, ?B/s]"
      ]
     },
     "metadata": {},
     "output_type": "display_data"
    },
    {
     "data": {
      "application/vnd.jupyter.widget-view+json": {
       "model_id": "420b8fce4b0a4685b38c393c6557f924",
       "version_major": 2,
       "version_minor": 0
      },
      "text/plain": [
       "tokenizer_config.json:   0%|          | 0.00/350 [00:00<?, ?B/s]"
      ]
     },
     "metadata": {},
     "output_type": "display_data"
    },
    {
     "data": {
      "application/vnd.jupyter.widget-view+json": {
       "model_id": "c86f1acc564e4d71ad1b2e8248e1733a",
       "version_major": 2,
       "version_minor": 0
      },
      "text/plain": [
       "vocab.txt:   0%|          | 0.00/232k [00:00<?, ?B/s]"
      ]
     },
     "metadata": {},
     "output_type": "display_data"
    },
    {
     "data": {
      "application/vnd.jupyter.widget-view+json": {
       "model_id": "ccf2cd0831bb44eeac5ae91f91d50611",
       "version_major": 2,
       "version_minor": 0
      },
      "text/plain": [
       "tokenizer.json:   0%|          | 0.00/466k [00:00<?, ?B/s]"
      ]
     },
     "metadata": {},
     "output_type": "display_data"
    },
    {
     "data": {
      "application/vnd.jupyter.widget-view+json": {
       "model_id": "3f900307b0fc447fad7d2ecdcac67bf6",
       "version_major": 2,
       "version_minor": 0
      },
      "text/plain": [
       "special_tokens_map.json:   0%|          | 0.00/112 [00:00<?, ?B/s]"
      ]
     },
     "metadata": {},
     "output_type": "display_data"
    },
    {
     "data": {
      "application/vnd.jupyter.widget-view+json": {
       "model_id": "fdbf5e861e4343b19f38769e6ed680d4",
       "version_major": 2,
       "version_minor": 0
      },
      "text/plain": [
       "config.json:   0%|          | 0.00/190 [00:00<?, ?B/s]"
      ]
     },
     "metadata": {},
     "output_type": "display_data"
    }
   ],
   "source": [
    "model = SentenceTransformer('sentence-transformers/all-MiniLM-L6-v2')"
   ]
  },
  {
   "cell_type": "code",
   "execution_count": 10,
   "id": "9b23a025-4c35-4d3a-96ad-b956cad37b0a",
   "metadata": {},
   "outputs": [],
   "source": [
    "# Pass in a list of texts, get back a numpy array of vectors\n",
    "\n",
    "vector = model.encode([\"Well hi there\"])[0]"
   ]
  },
  {
   "cell_type": "code",
   "execution_count": 11,
   "id": "8adde63f-e732-4f7c-bba9-f8b2a469f14e",
   "metadata": {},
   "outputs": [
    {
     "data": {
      "text/plain": [
       "array([-9.46715996e-02,  4.27619182e-02,  5.51620796e-02, -5.10974322e-04,\n",
       "        1.16203278e-02, -6.80130348e-02,  2.76405923e-02,  6.06974326e-02,\n",
       "        2.88530588e-02, -1.74127873e-02, -4.94346656e-02,  2.30993144e-02,\n",
       "       -1.28614362e-02, -4.31402884e-02,  2.17510425e-02,  4.26548682e-02,\n",
       "        5.10499813e-02, -7.79726803e-02, -1.23247266e-01,  3.67455557e-02,\n",
       "        4.54115681e-03,  9.47937891e-02, -5.53098582e-02,  1.70641188e-02,\n",
       "       -2.92873494e-02, -4.47125062e-02,  2.06784159e-02,  6.39320463e-02,\n",
       "        2.27427650e-02,  4.87789698e-02, -2.33500381e-03,  4.72859405e-02,\n",
       "       -2.86259186e-02,  2.30624694e-02,  2.45130323e-02,  3.95681858e-02,\n",
       "       -4.33176383e-02, -1.02316655e-01,  2.79877917e-03,  2.39304975e-02,\n",
       "        1.61556099e-02, -8.99076555e-03,  2.07255967e-02,  6.40123039e-02,\n",
       "        6.89179301e-02, -6.98361173e-02,  2.89762602e-03, -8.10989216e-02,\n",
       "        1.71122961e-02,  2.50655389e-03, -1.06529072e-01, -4.87733148e-02,\n",
       "       -1.67762097e-02, -2.28662323e-02,  1.14816606e-01,  4.87413146e-02,\n",
       "       -1.64961945e-02, -6.90831989e-02,  1.13612108e-01, -7.18485564e-02,\n",
       "       -9.01571214e-02,  3.91885442e-06, -8.66769478e-02, -4.05916199e-02,\n",
       "        3.71317528e-02, -1.77618526e-02, -5.57464249e-02, -4.57097292e-02,\n",
       "       -5.43141216e-02, -4.00612019e-02, -4.60227579e-02,  2.82194000e-02,\n",
       "       -2.33606342e-02,  1.44406408e-02, -1.52777620e-02, -4.34328355e-02,\n",
       "        6.81274757e-02,  8.21894631e-02,  7.83889648e-03, -2.85972785e-02,\n",
       "        6.14309497e-02, -4.92684916e-02,  3.27055226e-03, -2.72682887e-02,\n",
       "       -4.59346697e-02, -2.60168128e-02,  5.70650026e-02, -5.86470938e-04,\n",
       "       -4.37077023e-02, -2.47786957e-04, -8.73550177e-02,  3.48776355e-02,\n",
       "        1.39327217e-02, -1.60043575e-02,  2.86958441e-02, -9.48595703e-02,\n",
       "        9.40613002e-02,  5.92685528e-02, -8.65014419e-02,  1.45011380e-01,\n",
       "        2.35388577e-02,  3.43325399e-02,  2.51516991e-04,  7.15541616e-02,\n",
       "       -3.12182512e-02,  3.86665463e-02, -2.47745477e-02,  6.52673990e-02,\n",
       "       -8.28817114e-02, -2.80247312e-02,  9.34542436e-03, -7.85539206e-03,\n",
       "        5.30728102e-02,  2.96895560e-02,  3.27329934e-02,  4.94737141e-02,\n",
       "        2.52209008e-02,  4.67068553e-02,  5.03403321e-02, -7.23745152e-02,\n",
       "        2.54435111e-02, -3.67216729e-02,  1.27570210e-02,  1.46063706e-02,\n",
       "        2.11492237e-02, -5.56909554e-02, -9.18510184e-03, -5.63399289e-34,\n",
       "        9.58769694e-02,  5.94578534e-02,  5.11445403e-02,  3.36359851e-02,\n",
       "       -1.34414854e-02, -2.77203135e-02, -3.48436199e-02,  1.80352591e-02,\n",
       "       -2.53210999e-02,  6.73585292e-03,  5.47841080e-02, -3.60574201e-02,\n",
       "       -5.20870201e-02, -2.90345363e-02,  4.38960595e-03,  6.50023371e-02,\n",
       "        3.07485349e-02,  2.00220440e-02,  1.73039350e-03,  2.96726404e-03,\n",
       "        3.40953679e-03, -6.78145215e-02,  3.41304727e-02,  8.37866869e-03,\n",
       "        5.39904535e-02,  2.70389579e-02,  7.84119815e-02, -1.30136222e-01,\n",
       "        4.84650061e-02,  5.14179170e-02, -7.94680696e-03,  5.57885459e-03,\n",
       "       -5.31026013e-02,  3.81299108e-02, -3.05513050e-02, -7.69778714e-02,\n",
       "        1.20531479e-02, -4.08992916e-02, -8.69359151e-02,  6.38056248e-02,\n",
       "        1.68674570e-02,  1.68737210e-03,  6.28894269e-02, -1.67711936e-02,\n",
       "        2.15586219e-02,  7.10061577e-04,  2.81029521e-03, -8.89795087e-03,\n",
       "       -1.80887450e-02, -2.16216706e-02, -5.59150167e-02,  1.78774334e-02,\n",
       "       -9.27093402e-02,  7.27912178e-03, -1.27753586e-01, -4.86937910e-02,\n",
       "        1.45872282e-02, -1.62751488e-02,  6.75622597e-02,  3.87702547e-02,\n",
       "        7.23295137e-02,  9.14992243e-02, -9.65291932e-02,  4.84791622e-02,\n",
       "       -1.06274188e-01, -1.05042718e-02,  8.90350416e-02, -8.07525292e-02,\n",
       "        7.87081644e-02, -2.04917919e-02, -5.55080436e-02, -3.31532806e-02,\n",
       "       -2.14429330e-02,  4.94700298e-02, -7.05119371e-02,  6.63999021e-02,\n",
       "        7.39671215e-02, -2.70117167e-03,  1.62262395e-02, -3.98229249e-02,\n",
       "        5.94092533e-02, -7.14369165e-03, -3.33479419e-02,  2.30419319e-02,\n",
       "        1.87185574e-02, -6.15724809e-02, -8.55436840e-04, -1.05786651e-01,\n",
       "       -8.43619108e-02, -3.92993502e-02, -3.16447392e-02,  6.60644248e-02,\n",
       "        9.41815898e-02, -8.35982412e-02,  9.50878114e-03,  1.25504719e-34,\n",
       "        6.38198480e-02,  2.11371128e-02, -1.65899601e-02,  1.88641381e-02,\n",
       "       -5.57018928e-02,  1.82811532e-03, -1.37586938e-02,  8.16279054e-02,\n",
       "       -9.13297161e-02,  7.06855804e-02,  6.79991245e-02, -5.44536486e-02,\n",
       "        3.80394384e-02,  3.80505272e-03,  1.03689782e-01,  7.32790038e-04,\n",
       "        2.95661930e-02,  4.19423915e-02, -1.20444305e-01,  1.24932444e-02,\n",
       "       -5.53506315e-02,  1.75228566e-02, -2.28164643e-02, -5.79299554e-02,\n",
       "        9.42932721e-03, -5.42282406e-03, -3.94943962e-03,  2.82348748e-02,\n",
       "       -1.28066882e-01, -1.31304776e-02,  7.42957294e-02, -1.74529608e-02,\n",
       "       -9.72758904e-02,  8.25624447e-03,  2.06901133e-02, -5.29771438e-03,\n",
       "       -1.37696210e-02, -3.50974128e-02,  1.74978171e-02, -1.76233333e-02,\n",
       "       -6.50825500e-02, -3.84675562e-02, -8.76396447e-02,  3.21291722e-02,\n",
       "        2.55020731e-03, -2.09378786e-02,  5.55310063e-02,  2.57095806e-02,\n",
       "       -2.94735208e-02,  1.25048291e-02, -6.83466271e-02, -8.00624564e-02,\n",
       "       -1.46906460e-02,  1.03744278e-02, -8.51862952e-02, -1.10538946e-02,\n",
       "        2.14596316e-02,  4.08609249e-02,  3.31646204e-02, -2.76757386e-02,\n",
       "       -2.01877635e-02,  8.98885634e-03,  3.92048545e-02,  1.15103304e-01,\n",
       "        5.50440773e-02,  2.72754971e-02, -1.09526701e-01, -1.72622930e-02,\n",
       "        1.33438315e-02, -1.73702631e-02, -5.04371105e-03, -2.00293269e-02,\n",
       "        1.16672359e-01, -1.84323173e-02,  3.70627940e-02,  1.60885695e-02,\n",
       "        3.48830335e-02,  5.50574474e-02, -6.60796184e-03,  7.06828684e-02,\n",
       "        4.07849103e-02, -1.43314684e-02, -2.85442104e-03,  2.74251904e-02,\n",
       "       -4.26769070e-02,  1.26583343e-02,  3.34343426e-02,  1.62644833e-02,\n",
       "        1.19262896e-02, -2.92119160e-02,  2.73978338e-02,  3.44304740e-02,\n",
       "        2.52832323e-02,  3.07514518e-02,  3.22557576e-02, -1.74628507e-08,\n",
       "       -1.52690904e-02,  5.37679996e-03,  1.41246513e-01,  5.08366376e-02,\n",
       "        5.32256216e-02,  9.67938229e-02,  4.33674529e-02, -6.48309616e-03,\n",
       "        1.58604290e-02,  4.05631289e-02,  6.94985315e-02,  6.04905672e-02,\n",
       "       -6.26189411e-02, -3.96144204e-02,  1.10648863e-01,  1.67735685e-02,\n",
       "       -7.68694421e-03,  2.59615164e-02, -5.28792925e-02, -2.22318638e-02,\n",
       "        1.74595974e-02,  4.75339741e-02,  3.27674523e-02, -4.59684990e-02,\n",
       "        2.01770682e-02, -1.60875842e-02, -1.58613715e-02, -1.66658349e-02,\n",
       "       -3.05246692e-02, -3.87907512e-02, -1.27654532e-02,  6.57610297e-02,\n",
       "       -2.22503003e-02, -9.44990106e-03,  2.32079886e-02,  2.66038086e-02,\n",
       "        2.14203876e-02, -7.54580088e-03,  8.84752274e-02, -9.43514258e-02,\n",
       "       -5.74870259e-02, -7.77097866e-02,  1.95793086e-03, -1.50347501e-02,\n",
       "       -8.08493700e-03,  1.88217573e-02,  8.42520408e-03, -3.78591828e-02,\n",
       "        1.24534164e-02, -7.94995874e-02, -2.15790402e-02,  1.20276548e-02,\n",
       "        1.74870919e-02,  8.74479115e-02,  6.64091706e-02,  3.13736945e-02,\n",
       "       -1.00628864e-02,  2.07700860e-02, -5.20163141e-02, -8.91334843e-03,\n",
       "        1.48542330e-01, -2.51265382e-03,  9.93156210e-02,  2.34929770e-02],\n",
       "      dtype=float32)"
      ]
     },
     "execution_count": 11,
     "metadata": {},
     "output_type": "execute_result"
    }
   ],
   "source": [
    "vector"
   ]
  },
  {
   "cell_type": "code",
   "execution_count": 12,
   "id": "38de1bf8-c9b5-45b4-9f4b-86af93b3f80d",
   "metadata": {},
   "outputs": [],
   "source": [
    "def description(item):\n",
    "    text = item.prompt.replace(\"How much does this cost to the nearest dollar?\\n\\n\", \"\")\n",
    "    return text.split(\"\\n\\nPrice is $\")[0]"
   ]
  },
  {
   "cell_type": "code",
   "execution_count": 13,
   "id": "8c1205bd-4692-44ef-8ea4-69f255354537",
   "metadata": {},
   "outputs": [
    {
     "data": {
      "text/plain": [
       "'Delphi FG0166 Fuel Pump Module\\nDelphi brings 80 years of OE Heritage into each Delphi pump, ensuring quality and fitment for each Delphi part. Part is validated, tested and matched to the right vehicle application Delphi brings 80 years of OE Heritage into each Delphi assembly, ensuring quality and fitment for each Delphi part Always be sure to check and clean fuel tank to avoid unnecessary returns Rigorous OE-testing ensures the pump can withstand extreme temperatures Brand Delphi, Fit Type Vehicle Specific Fit, Dimensions LxWxH 19.7 x 7.7 x 5.1 inches, Weight 2.2 Pounds, Auto Part Position Unknown, Operation Mode Mechanical, Manufacturer Delphi, Model FUEL PUMP, Dimensions 19.7'"
      ]
     },
     "execution_count": 13,
     "metadata": {},
     "output_type": "execute_result"
    }
   ],
   "source": [
    "description(train[0])"
   ]
  },
  {
   "cell_type": "code",
   "execution_count": 14,
   "id": "8c79e2fe-1f50-4ebf-9a93-34f3088f2996",
   "metadata": {},
   "outputs": [
    {
     "name": "stderr",
     "output_type": "stream",
     "text": [
      "100%|██████████| 400/400 [37:16<00:00,  5.59s/it]\n"
     ]
    }
   ],
   "source": [
    "for i in tqdm(range(0, len(train), 1000)):\n",
    "    documents = [description(item) for item in train[i: i+1000]]\n",
    "    vectors = model.encode(documents).astype(float).tolist()\n",
    "    metadatas = [{\"category\": item.category, \"price\": item.price} for item in train[i: i+1000]]\n",
    "    ids = [f\"doc_{j}\" for j in range(i, i+1000)]\n",
    "    collection.add(\n",
    "        ids=ids,\n",
    "        documents=documents,\n",
    "        embeddings=vectors,\n",
    "        metadatas=metadatas\n",
    "    )"
   ]
  }
 ],
 "metadata": {
  "kernelspec": {
   "display_name": "venv",
   "language": "python",
   "name": "python3"
  },
  "language_info": {
   "codemirror_mode": {
    "name": "ipython",
    "version": 3
   },
   "file_extension": ".py",
   "mimetype": "text/x-python",
   "name": "python",
   "nbconvert_exporter": "python",
   "pygments_lexer": "ipython3",
   "version": "3.12.1"
  }
 },
 "nbformat": 4,
 "nbformat_minor": 5
}
